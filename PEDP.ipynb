{
  "nbformat": 4,
  "nbformat_minor": 0,
  "metadata": {
    "colab": {
      "provenance": []
    },
    "kernelspec": {
      "name": "python3",
      "display_name": "Python 3"
    },
    "language_info": {
      "name": "python"
    }
  },
  "cells": [
    {
      "cell_type": "code",
      "execution_count": null,
      "metadata": {
        "id": "sF6ArT7tdewl"
      },
      "outputs": [],
      "source": [
        "matriz=[[1,2,3,4],\n",
        "[5,6,7,8]]\n",
        "print(matriz)\n",
        "print(matriz[0])\n",
        "print(matriz[1])\n",
        "print(matriz[0][0])\n",
        "print(matriz[0][1])\n",
        "print(matriz[1][0])\n",
        "print(matriz[1][1])\n",
        "print(matriz[1][2])\n",
        "# print(matriz[2][1]) erro"
      ]
    },
    {
      "cell_type": "code",
      "source": [
        "lista1=[10,20,30,40]\n",
        "lista2=[50,60,70,80]\n",
        "matriz2=[]\n",
        "matriz2.append(lista1)\n",
        "matriz2.append(lista2)\n",
        "print(matriz2)\n",
        "print(matriz2[0])\n",
        "print(matriz2[1])\n",
        "print(matriz2[0][0])\n",
        "print(matriz2[0][1])"
      ],
      "metadata": {
        "id": "1TpzeCZddvjZ"
      },
      "execution_count": null,
      "outputs": []
    },
    {
      "cell_type": "code",
      "source": [
        "listaA=[1,2,3]\n",
        "listaB=[4,5,6]\n",
        "listaC=[7,8,9]\n",
        "matrizX=[]\n",
        "matrizX.append(listaA)\n",
        "matrizX.append(listaB)\n",
        "matrizX.append(listaC)\n",
        "print(matrizX)\n",
        "print(matrizX[0])\n",
        "print(matrizX[1])\n",
        "print(matrizX[2])\n",
        "print(matrizX[0][0])\n",
        "print(matrizX[0][1])\n",
        "print(matrizX[1][0])\n",
        "print(matrizX[2][0])\n",
        "print(matrizX[2][2])"
      ],
      "metadata": {
        "id": "xW46p9mBeNHO"
      },
      "execution_count": null,
      "outputs": []
    },
    {
      "cell_type": "code",
      "source": [
        "# lista1=[10,20,30,40]\n",
        "# lista2=[50,60,70,80]\n",
        "# matriz=[]\n",
        "# matriz.append(lista1)\n",
        "# matriz.append(lista2)\n",
        "# linha=0\n",
        "# while linha<len(matriz):\n",
        "#   coluna=0\n",
        "# while coluna<len(matriz[linha]):\n",
        "#   print(matriz[linha][coluna])\n",
        "# coluna=coluna+1\n",
        "# linha=linha+1"
      ],
      "metadata": {
        "id": "UVIx4a1OejzG"
      },
      "execution_count": 10,
      "outputs": []
    },
    {
      "cell_type": "code",
      "source": [
        "pares=[]\n",
        "N=int(input(\"Entre com a qtde de números pares que deseja gerar: \"))\n",
        "for i in range(N):\n",
        "  par=i*2\n",
        "pares.append(par)\n",
        "print(pares)"
      ],
      "metadata": {
        "id": "t-KJaREspTfQ"
      },
      "execution_count": null,
      "outputs": []
    },
    {
      "cell_type": "code",
      "source": [
        "lista1=[1,2,3,4,5]\n",
        "lista2=[ 2, 5, 7, 1, 9, 18]\n",
        "interseccao=[]\n",
        "for i in lista1:\n",
        "  for j in lista2:\n",
        "    if i==j:\n",
        "      interseccao.append(i)\n",
        "print(interseccao)"
      ],
      "metadata": {
        "colab": {
          "base_uri": "https://localhost:8080/"
        },
        "id": "4eQ2ye93qJou",
        "outputId": "3586a89e-f8c8-44a4-97d5-e7917ee35e1a"
      },
      "execution_count": 14,
      "outputs": [
        {
          "output_type": "stream",
          "name": "stdout",
          "text": [
            "[1, 2, 5]\n"
          ]
        }
      ]
    },
    {
      "cell_type": "code",
      "source": [
        "matriz =  [ [10, 5, 3,23],\n",
        "            [15,25,12,13],\n",
        "            [27,28,45,30]]\n",
        "\n",
        "maiorLinha =[]\n",
        "\n",
        "for i in matriz:\n",
        "  maiorLinha.append(max(i))\n",
        "\n",
        "print(maiorLinha)\n"
      ],
      "metadata": {
        "colab": {
          "base_uri": "https://localhost:8080/"
        },
        "id": "itJyiLaCqkmU",
        "outputId": "0fb050b8-d737-4626-b048-7cb12b62ec50"
      },
      "execution_count": 15,
      "outputs": [
        {
          "output_type": "stream",
          "name": "stdout",
          "text": [
            "[23, 25, 45]\n"
          ]
        }
      ]
    },
    {
      "cell_type": "code",
      "source": [
        "pares=[]\n",
        "for i in range(10):\n",
        "  par=i*2\n",
        "  pares.append(par)\n",
        "print(pares)\n"
      ],
      "metadata": {
        "id": "nktpKFh4rXhJ"
      },
      "execution_count": null,
      "outputs": []
    },
    {
      "cell_type": "code",
      "source": [
        "# Ler o número de linhas da matriz\n",
        "num_linhas = int(input(\"Digite o número de linhas da matriz: \"))\n",
        "\n",
        "matriz = []\n",
        "\n",
        "# Ler cada linha da matriz\n",
        "for i in range(num_linhas):\n",
        "    linha = input(f\"Digite os elementos da linha {i + 1}, separados por espaço: \")\n",
        "    matriz.append(list(map(int, linha.split())))\n",
        "\n",
        "# Calcular e exibir o maior valor de cada linha\n",
        "maiorLinha = [max(linha) for linha in matriz]\n",
        "print(\"Maiores valores de cada linha:\", maiorLinha)\n"
      ],
      "metadata": {
        "id": "aOUcS46MsqGv"
      },
      "execution_count": null,
      "outputs": []
    },
    {
      "cell_type": "code",
      "source": [
        "# Solicita ao usuário o número para o qual deseja ver a tabuada\n",
        "numero = int(input(\"Digite um número entre 1 e 10 para ver a tabuada: \"))\n",
        "\n",
        "# Verifica se o número está no intervalo válido\n",
        "if 1 <= numero & numero <= 10:\n",
        "    # Exibe a tabuada\n",
        "    print(f\"Tabuada de {numero}:\")\n",
        "    for i in range(1, 11):\n",
        "        print(f\"{numero} X {i} = {numero * i}\")\n",
        "else:\n",
        "    print(\"Número fora do intervalo. Digite um número entre 1 e 10.\")\n",
        "\n",
        "\n",
        "\n"
      ],
      "metadata": {
        "id": "bhMkNWYeuETS"
      },
      "execution_count": null,
      "outputs": []
    },
    {
      "cell_type": "code",
      "source": [
        "import random\n",
        "\n",
        "# Função para gerar uma matriz 4x4 com valores aleatórios de 0s e 1s\n",
        "def gerar_matriz_4x4():\n",
        "    return [[random.randint(0, 1) for _ in range(4)] for _ in range(4)]\n",
        "\n",
        "# Função para imprimir a matriz de forma legível\n",
        "def imprimir_matriz(matriz):\n",
        "    for linha in matriz:\n",
        "        print(' '.join(map(str, linha)))\n",
        "\n",
        "# Gera a matriz 4x4\n",
        "matriz = gerar_matriz_4x4()\n",
        "\n",
        "# Exibe a matriz gerada (opcional)\n",
        "print(\"Matriz gerada pelo computador:\")\n",
        "imprimir_matriz(matriz)\n",
        "\n",
        "# Solicita a entrada do jogador\n",
        "entrada_jogador = input(\"Digite uma lista de 4 elementos (0s e 1s) separados por espaço: \")\n",
        "lista_jogador = list(map(int, entrada_jogador.split()))\n",
        "\n",
        "# Verifica se a lista do jogador está correta\n",
        "if len(lista_jogador) != 4:\n",
        "    print(\"A lista deve conter exatamente 4 elementos.\")\n",
        "elif all(x in (0, 1) for x in lista_jogador):\n",
        "    if lista_jogador in matriz:\n",
        "        print(\"Parabéns! Você ganhou!\")\n",
        "    else:\n",
        "        print(\"Que pena! Você perdeu.\")\n",
        "        print(\"A matriz era:\")\n",
        "        imprimir_matriz(matriz)\n",
        "else:\n",
        "    print(\"A lista deve conter apenas 0s e 1s.\")\n"
      ],
      "metadata": {
        "id": "JqJz3UaAvc8c"
      },
      "execution_count": null,
      "outputs": []
    },
    {
      "cell_type": "code",
      "source": [
        "def maior(x,y):\n",
        "  maior=x\n",
        "  if(y>maior):\n",
        "    maior=y\n",
        "  return maior\n",
        "m=maior(7,2)\n",
        "print(maior(3,4))\n",
        "print(maior(4,3))\n",
        "print(maior(5,maior(4,3)))"
      ],
      "metadata": {
        "id": "MJDRUTaDvraV"
      },
      "execution_count": null,
      "outputs": []
    },
    {
      "cell_type": "code",
      "source": [
        "def fatorial(N):\n",
        "  fat=1;\n",
        "  for i in range(2,N+1):\n",
        "    fat=fat*i\n",
        "  return fat\n",
        "\n",
        "print(fatorial(3))\n",
        "print(fatorial(4))\n",
        "print(fatorial(fatorial(3)))"
      ],
      "metadata": {
        "id": "XmF7ysBxwSAw"
      },
      "execution_count": null,
      "outputs": []
    },
    {
      "cell_type": "code",
      "source": [
        "def media(N1,N2):\n",
        "  media=(N1+2*N2)/3\n",
        "  return media\n",
        "\n",
        "m=media(7,5)\n",
        "print(m)\n",
        "print(media(3,4))\n",
        "print(media(4,3))\n",
        "print(media(10,10))"
      ],
      "metadata": {
        "id": "f1RduJl4wpgr"
      },
      "execution_count": null,
      "outputs": []
    },
    {
      "cell_type": "code",
      "source": [
        "def mediaLista(lista):\n",
        "  soma=0\n",
        "  i=0\n",
        "  while (i<len(lista)):\n",
        "    soma=soma+lista[i]\n",
        "    i=i+1\n",
        "  media=soma/i\n",
        "  return media\n",
        "\n",
        "lista = [10.5, 9.98, 11.0, 10.3, 9.9, 9.8, 10.3,11.0,9.7, 10.0]\n",
        "m=mediaLista(lista)\n",
        "print(\"media=\",m)\n",
        "lista = list(range(1,11)) #Cria uma lista de 1 até 10,\n",
        "lista=[1,2,3,4,5,6,7,8,9,10]\n",
        "m=mediaLista(lista)\n",
        "print(\"media=\",m)"
      ],
      "metadata": {
        "id": "Pk8bleaLw5qP"
      },
      "execution_count": null,
      "outputs": []
    },
    {
      "cell_type": "code",
      "source": [
        "def jurosComposto(valor,juros,meses):\n",
        "  jurosTotal=pow(1+(juros/100.0),meses)\n",
        "  valorTotal=valor*jurosTotal\n",
        "  return valorTotal\n",
        "\n",
        "print(jurosComposto(1000,0.5,12))\n",
        "print(jurosComposto(1000,1.0,12))"
      ],
      "metadata": {
        "id": "R7bqi4T_xSAc"
      },
      "execution_count": null,
      "outputs": []
    },
    {
      "cell_type": "code",
      "source": [
        "def somaLista(lista):\n",
        "  soma=0\n",
        "  i=0\n",
        "  while (i<len(lista)):\n",
        "    soma=soma+lista[i]\n",
        "    i=i+1\n",
        "  return soma\n",
        "\n",
        "def porcentagemParticipacao(lista):\n",
        "  soma=somaLista(lista)\n",
        "  listaPart=[]\n",
        "  i=0\n",
        "  while (i<len(lista)):\n",
        "    p=lista[i]/soma\n",
        "    listaPart.append(round(p*100,2))\n",
        "    i=i+1\n",
        "  return listaPart\n",
        "\n",
        "lista = [10.5, 9.98, 11.0, 10.3, 9.9, 9.8, 10.3,11.0,9.7, 10.0]\n",
        "lista2=porcentagemParticipacao(lista)\n",
        "print(lista2)"
      ],
      "metadata": {
        "id": "ocFpI630xciC"
      },
      "execution_count": null,
      "outputs": []
    },
    {
      "cell_type": "code",
      "source": [
        "# Lista de salários dos funcionários\n",
        "salarios = [2500, 3000, 3500, 4000]\n",
        "\n",
        "# Percentual de aumento\n",
        "percentual_aumento = 10\n",
        "\n",
        "# Calcula o aumento em percentual\n",
        "aumento = percentual_aumento / 100\n",
        "\n",
        "# Calcula novos salários e o impacto total\n",
        "novos_salarios = []\n",
        "impacto = 0\n",
        "\n",
        "for salario in salarios:\n",
        "    novo_salario = salario * (1 + aumento)\n",
        "    novos_salarios.append(novo_salario)\n",
        "    impacto += novo_salario - salario\n",
        "\n",
        "# Imprime os novos salários\n",
        "print(\"Novos salários:\")\n",
        "for salario in novos_salarios:\n",
        "    print(f\"{salario:.2f}\")\n",
        "\n",
        "# Imprime o impacto total\n",
        "print(f\"Impacto total do aumento na folha: {impacto:.2f}\")\n"
      ],
      "metadata": {
        "id": "NUtEgniKx3EE"
      },
      "execution_count": null,
      "outputs": []
    },
    {
      "cell_type": "code",
      "source": [
        "\n",
        "\n",
        "#  Suponha que uma pessoa possa se aposentar pelo INSS caso atenda alguma das situações abaixo:\n",
        "\n",
        "# • É do sexo masculino, possui pelo menos 65 anos e pelo menos 10 anos de contribuição.\n",
        "\n",
        "# • É do sexo masculino, possui pelo menos 63 anos e pelo menos 15 anos de contribuição.\n",
        "\n",
        "# • É do sexo feminino, possui pelo menos 63 anos e pelo menos 10 anos de contribuição.\n",
        "\n",
        "# • É do sexo feminino, possui pelo menos 61 anos e pelo menos 15 anos de contribuição.\n",
        "\n",
        "# Crie um programa que leia um caractere (‘M’ ou ‘F’), que representa o sexo de um indivíduo, e dois inteiros, que\n",
        "\n",
        "# representam a idade e o tempo de contribuição. O programa deverá então imprimir “Aposentável” se o indivíduo\n",
        "\n",
        "# atenda uma das situações acima. Caso contrário, o programa deverá imprimir “Não Aposentáv\n",
        "\n",
        "\n",
        "\n",
        "genero=input(\"Entre com seu genêro (M/F) : \")\n",
        "\n",
        "idade=int(input(\"Entre com a idade em anos: \"))\n",
        "\n",
        "tempoContribuicao=int(input(\"Entre com o tempo de contribuição em anos: \"))\n",
        "\n",
        "\n",
        "\n",
        "if genero.upper()==\"M\":\n",
        "\n",
        "  if idade>= 65 and tempoContribuicao >=10:\n",
        "\n",
        "    resultado=\"Aposentável\"\n",
        "\n",
        "  elif idade>= 63 and tempoContribuicao >=15:\n",
        "\n",
        "    resultado=\"Aposentável\"\n",
        "\n",
        "  else:\n",
        "\n",
        "    resultado=\"Não Aposentável\"\n",
        "\n",
        "else: # Aqui o sexo é feminino F\n",
        "\n",
        "  if idade>= 63 and tempoContribuicao >=10:\n",
        "\n",
        "    resultado=\"Aposentável\"\n",
        "\n",
        "  elif idade>= 61 and tempoContribuicao >=15:\n",
        "\n",
        "    resultado=\"Aposentável\"\n",
        "\n",
        "  else:\n",
        "\n",
        "    resultado=\"Não Aposentável\"\n",
        "\n",
        "\n",
        "\n",
        "print(\"RESULTADO:\", resultado)"
      ],
      "metadata": {
        "id": "MyViIfKjy6sB"
      },
      "execution_count": null,
      "outputs": []
    },
    {
      "cell_type": "code",
      "source": [
        "# Faça um programa em python que data a entrada do valor do aluguel e\n",
        "# dia do pagamento ele fornece um desconto:\n",
        "# dia de pagamento =< 9 desconto de 8%\n",
        "# dia do pagamento entre (> 9 e <15) -> sem desconto\n",
        "# dia do pagamento >= 15 acescente multa de 20%\n",
        "\n",
        "\n",
        "#  Cálculo do aluguel\n",
        "Aluguel=float(input(\"Valor do aluguel:\"))\n",
        "diaPagto=int(input(\"Dia do pagamento:\"))\n",
        "if(diaPagto<=9):\n",
        "  vlPago=Aluguel-(Aluguel*(8/100))\n",
        "elif(diaPagto>9 and diaPagto<15):\n",
        "  vlPago=Aluguel\n",
        "elif(diaPagto>=15):\n",
        "  vlPago=Aluguel+(Aluguel*(20/100))\n",
        "print(\"Valor do aluguel pago = \",vlPago)\n",
        "print(\"Valor do aluguel original = \",Aluguel)\n",
        "print(\"Dia do pagamento = \",diaPagto)"
      ],
      "metadata": {
        "id": "YAIMFqJ7zXt-"
      },
      "execution_count": null,
      "outputs": []
    },
    {
      "cell_type": "code",
      "source": [
        "#  Exemplo 1 – Imprime todos os elementos de uma lista\n",
        "\n",
        "lista = [\"A\", \"B\", \"C\", \"D\", \"E\", \"F\", \"G\",\"H\",\"I\", \"J\" ]\n",
        "\n",
        "#impressão simples\n",
        "\n",
        "print(\"lista= \", lista)\n",
        "\n",
        "\n",
        "\n",
        "\n",
        "#impressão com while\n",
        "\n",
        "count=0\n",
        "\n",
        "print (\"Tamanho da lista = \", len(lista))\n",
        "\n",
        "while (count<len(lista)):\n",
        "\n",
        "  print (\"lista = Item \",count,\" : \",lista[count])\n",
        "\n",
        "  count=count+1\n",
        "\n",
        "print(\"Fim!!\")"
      ],
      "metadata": {
        "id": "ezuGkL3pzxLN"
      },
      "execution_count": null,
      "outputs": []
    },
    {
      "cell_type": "code",
      "source": [
        "# Exemplo 2 – Conta quantos elementos exatamente iguais na mesma posição de duas listas\n",
        "\n",
        "# Imprime todos os elementos de uma lista\n",
        "\n",
        "lista1 = [\"A\", \"B\", \"C\", \"D\", \"E\", \"F\", \"G\",\"H\",\"I\",\"j\"]\n",
        "\n",
        "lista2 = [\"B\", \"B\", \"A\", \"D\", \"I\", \"F\", \"G\",\"C\",\"H\",\"j\"]\n",
        "\n",
        "#impressão simples\n",
        "\n",
        "print(\"lista1= \", lista1)\n",
        "\n",
        "print(\"lista2= \", lista2)\n",
        "\n",
        "\n",
        "\n",
        "#impressão com while\n",
        "\n",
        "print (\"Tamanho da lista1 = \", len(lista1))\n",
        "\n",
        "print (\"Tamanho da lista2 = \", len(lista2))\n",
        "\n",
        "count=0\n",
        "\n",
        "elemento_igual=0\n",
        "\n",
        "while (count<len(lista1)):\n",
        "\n",
        "  if lista1[count]==lista2[count]:\n",
        "\n",
        "    elemento_igual=elemento_igual+1\n",
        "\n",
        "  count=count+1\n",
        "\n",
        "print(\"Os elementos iguais totalizam =\",elemento_igual)\n",
        "\n",
        "print(\"Fim!!\")"
      ],
      "metadata": {
        "id": "LnInLKXZ0HBq"
      },
      "execution_count": null,
      "outputs": []
    },
    {
      "cell_type": "code",
      "source": [
        "# Exemplo 3 – Soma e calcula a média de uma lista\n",
        "\n",
        "lista = [10.5, 9.98, 11.0, 10.3, 9.9, 9.8, 10.3,11.0,9.7, 10.0]\n",
        "\n",
        "soma=0\n",
        "\n",
        "for count in range(len(lista)):\n",
        "\n",
        "  soma=soma+lista[count]\n",
        "\n",
        "media=soma/len(lista)\n",
        "\n",
        "print(\"soma=\",soma)\n",
        "\n",
        "print(\"Total de itens=\",len(lista))\n",
        "\n",
        "print(\"media=\",media)"
      ],
      "metadata": {
        "id": "-F3GoW_Z0h3a"
      },
      "execution_count": null,
      "outputs": []
    },
    {
      "cell_type": "code",
      "source": [],
      "metadata": {
        "id": "uXeNf3GA0zqF"
      },
      "execution_count": null,
      "outputs": []
    }
  ]
}